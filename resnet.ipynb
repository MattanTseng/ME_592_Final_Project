{
 "cells": [
  {
   "cell_type": "code",
   "execution_count": 11,
   "outputs": [],
   "source": [
    "import torchvision\n",
    "import torch\n",
    "from torchvision.transforms import Compose, Resize, ToTensor, Normalize\n",
    "from utils.dataset import ChestImage64\n",
    "import matplotlib.pyplot as plt\n",
    "import numpy as np\n",
    "from torch.utils.data import random_split, DataLoader\n",
    "from torch import optim\n",
    "import torch.nn as nn\n",
    "import time\n"
   ],
   "metadata": {
    "collapsed": false
   }
  },
  {
   "cell_type": "code",
   "execution_count": 12,
   "outputs": [],
   "source": [
    "csv_path = './Data/64px Images/train_labels_64p.csv'\n",
    "root_path = './Data/64px Images'"
   ],
   "metadata": {
    "collapsed": false
   }
  },
  {
   "cell_type": "code",
   "execution_count": 13,
   "outputs": [],
   "source": [
    "transform = Compose([\n",
    "    Resize((64, 64)),\n",
    "    ToTensor(),\n",
    "    Normalize(mean=[0.485, 0.456, 0.406], std=[0.229, 0.224, 0.225]),\n",
    "])"
   ],
   "metadata": {
    "collapsed": false
   }
  },
  {
   "cell_type": "code",
   "execution_count": 14,
   "outputs": [],
   "source": [
    "dataset = ChestImage64(csv_path=csv_path, root_path=root_path, class_name=\"Lateral\", transform=transform)"
   ],
   "metadata": {
    "collapsed": false
   }
  },
  {
   "cell_type": "code",
   "execution_count": 15,
   "outputs": [],
   "source": [
    "train_size = round(0.7 * len(dataset))\n",
    "val_size = round(0.1 * len(dataset))\n",
    "test_size = round(0.2 * len(dataset))\n",
    "\n",
    "train_dataset, val_dataset, test_dataset = random_split(dataset, [train_size, val_size, test_size])\n",
    "\n",
    "train_loader = DataLoader(train_dataset, batch_size=32, shuffle=True)\n",
    "val_loader = DataLoader(val_dataset, batch_size=32, shuffle=False)\n",
    "test_loader = DataLoader(test_dataset,batch_size=32, shuffle=True)"
   ],
   "metadata": {
    "collapsed": false
   }
  },
  {
   "cell_type": "code",
   "execution_count": 16,
   "outputs": [
    {
     "name": "stderr",
     "output_type": "stream",
     "text": [
      "Clipping input data to the valid range for imshow with RGB data ([0..1] for floats or [0..255] for integers).\n"
     ]
    },
    {
     "data": {
      "text/plain": "<Figure size 640x480 with 1 Axes>",
      "image/png": "[encoded data removed]"
     },
     "metadata": {},
     "output_type": "display_data"
    },
    {
     "name": "stdout",
     "output_type": "stream",
     "text": [
      "tensor([0., 0., 0., 0., 0., 0., 0., 0., 0., 0., 0., 0., 0., 1.])\n"
     ]
    }
   ],
   "source": [
    "for item in train_loader:\n",
    "    image = item[0][0].numpy()/2 + 0.5\n",
    "    plt.imshow(np.transpose(image,(1,2,0)))\n",
    "    plt.show()\n",
    "    print(item[1][0])\n",
    "    break"
   ],
   "metadata": {
    "collapsed": false
   }
  },
  {
   "cell_type": "code",
   "execution_count": 17,
   "outputs": [
    {
     "name": "stderr",
     "output_type": "stream",
     "text": [
      "C:\\Users\\mhzar\\Desktop\\Spring 2023\\ME 592\\Project\\Code\\venv\\lib\\site-packages\\torchvision\\models\\_utils.py:208: UserWarning: The parameter 'pretrained' is deprecated since 0.13 and may be removed in the future, please use 'weights' instead.\n",
      "  warnings.warn(\n",
      "C:\\Users\\mhzar\\Desktop\\Spring 2023\\ME 592\\Project\\Code\\venv\\lib\\site-packages\\torchvision\\models\\_utils.py:223: UserWarning: Arguments other than a weight enum or `None` for 'weights' are deprecated since 0.13 and may be removed in the future. The current behavior is equivalent to passing `weights=ResNet152_Weights.IMAGENET1K_V1`. You can also use `weights=ResNet152_Weights.DEFAULT` to get the most up-to-date weights.\n",
      "  warnings.warn(msg)\n"
     ]
    }
   ],
   "source": [
    "model = torchvision.models.resnet152(pretrained=True)\n",
    "num_classes = 14\n",
    "for param in model.parameters():\n",
    "    param.requires_grad = False\n",
    "\n",
    "model.fc = nn.Sequential(\n",
    "            nn.Linear(model.fc.in_features, num_classes)\n",
    "        )\n",
    "for param in model.fc.parameters():\n",
    "    param.requires_grad = True"
   ],
   "metadata": {
    "collapsed": false
   }
  },
  {
   "cell_type": "code",
   "execution_count": 18,
   "outputs": [
    {
     "name": "stdout",
     "output_type": "stream",
     "text": [
      "Epoch: 1\n",
      "[    0/21445 (  0%)]  Loss: 0.7417\n",
      "[ 3200/21445 ( 15%)]  Loss: 0.5722\n",
      "[ 6400/21445 ( 30%)]  Loss: 0.5065\n",
      "[ 9600/21445 ( 45%)]  Loss: 0.4226\n",
      "[12800/21445 ( 60%)]  Loss: 0.5300\n",
      "[16000/21445 ( 75%)]  Loss: 0.5669\n",
      "[19200/21445 ( 89%)]  Loss: 0.5262\n",
      "Epoch: 2\n",
      "[    0/21445 (  0%)]  Loss: 0.5582\n",
      "[ 3200/21445 ( 15%)]  Loss: 0.4778\n",
      "[ 6400/21445 ( 30%)]  Loss: 0.4087\n",
      "[ 9600/21445 ( 45%)]  Loss: 0.5852\n",
      "[12800/21445 ( 60%)]  Loss: 0.5493\n",
      "[16000/21445 ( 75%)]  Loss: 0.4245\n",
      "[19200/21445 ( 89%)]  Loss: 0.4758\n"
     ]
    }
   ],
   "source": [
    "## define the data\n",
    "\n",
    "optimizer = optim.Adam(model.parameters(), lr=1e-3)\n",
    "\n",
    "sum(p.numel() for p in model.parameters())\n",
    "\n",
    "criterion = torch.nn.BCEWithLogitsLoss()\n",
    "\n",
    "# %%\n",
    "def train_epoch(model, optimizer, data_loader, loss_history, device):\n",
    "    total_samples = len(data_loader.dataset)\n",
    "    model.train()\n",
    "\n",
    "    for i, (data, target) in enumerate(data_loader):\n",
    "        data = data.to(device)\n",
    "        target = target.to(device)\n",
    "        optimizer.zero_grad()\n",
    "\n",
    "        output = model(data)\n",
    "        loss = criterion(output,target)\n",
    "\n",
    "        loss.backward()\n",
    "        optimizer.step()\n",
    "\n",
    "        if i % 100 == 0:\n",
    "            print('[' + '{:5}'.format(i * len(data)) + '/' + '{:5}'.format(total_samples) +\n",
    "                  ' (' + '{:3.0f}'.format(100 * i / len(data_loader)) + '%)]  Loss: ' +\n",
    "                  '{:6.4f}'.format(loss.item()))\n",
    "            loss_history.append(loss.item())\n",
    "\n",
    "\n",
    "# %%\n",
    "use_cuda = torch.cuda.is_available()\n",
    "device = torch.device('cuda' if use_cuda else 'cpu')\n",
    "\n",
    "N_EPOCHS = 2\n",
    "\n",
    "start_time = time.time()\n",
    "\n",
    "model.to(device)\n",
    "\n",
    "train_loss_history, test_loss_history = [], []\n",
    "for epoch in range(1, N_EPOCHS + 1):\n",
    "    print('Epoch:', epoch)\n",
    "    train_epoch(model, optimizer, train_loader, train_loss_history, device)\n",
    "    # evaluate(model, test_loader, test_loss_history, device)"
   ],
   "metadata": {
    "collapsed": false
   }
  },
  {
   "cell_type": "code",
   "execution_count": 22,
   "outputs": [],
   "source": [
    "def multi_class_multi_label_accuracy(y_pred, y_true, threshold=0.5):\n",
    "    # Apply sigmoid function to raw outputs\n",
    "    y_pred = torch.sigmoid(y_pred)\n",
    "\n",
    "    # Threshold the predictions\n",
    "    y_pred = (y_pred > threshold).float()\n",
    "    # Compute accuracy\n",
    "    correct = (y_pred == y_true).float()\n",
    "    accuracy = correct.sum() / (y_true.numel())\n",
    "\n",
    "    return accuracy\n"
   ],
   "metadata": {
    "collapsed": false
   }
  },
  {
   "cell_type": "code",
   "execution_count": 23,
   "outputs": [
    {
     "name": "stdout",
     "output_type": "stream",
     "text": [
      "Accuracy: 0.75\n"
     ]
    }
   ],
   "source": [
    "# Import torch and the accuracy function\n",
    "import torch\n",
    "total_accuracy  = []\n",
    "for input, target in test_loader:\n",
    "    # Compute multi-class multi-label accuracy\n",
    "    y_pred = model(input)\n",
    "    accuracy = multi_class_multi_label_accuracy(y_pred, target, threshold=0.5)\n",
    "    total_accuracy.append(accuracy.item())\n",
    "\n",
    "print(\"Accuracy: {:.2f}\".format((np.mean(total_accuracy))))\n"
   ],
   "metadata": {
    "collapsed": false
   }
  },
  {
   "cell_type": "code",
   "execution_count": 24,
   "outputs": [
    {
     "data": {
      "text/plain": "[0.8147321343421936,\n 0.7477678656578064,\n 0.7723214030265808,\n 0.7098214030265808,\n 0.6785714030265808,\n 0.7410714030265808,\n 0.7544642686843872,\n 0.78125,\n 0.796875,\n 0.7991071343421936,\n 0.7455357313156128,\n 0.7165178656578064,\n 0.7946428656578064,\n 0.7857142686843872,\n 0.7991071343421936,\n 0.765625,\n 0.7901785969734192,\n 0.8169642686843872,\n 0.7700892686843872,\n 0.7120535969734192,\n 0.7433035969734192,\n 0.7522321343421936,\n 0.7120535969734192,\n 0.7120535969734192,\n 0.78125,\n 0.6986607313156128,\n 0.7366071343421936,\n 0.6941964030265808,\n 0.7455357313156128,\n 0.7544642686843872,\n 0.7745535969734192,\n 0.7321428656578064,\n 0.7455357313156128,\n 0.7477678656578064,\n 0.75,\n 0.7276785969734192,\n 0.7566964030265808,\n 0.7879464030265808,\n 0.7767857313156128,\n 0.7299107313156128,\n 0.7790178656578064,\n 0.7388392686843872,\n 0.78125,\n 0.7321428656578064,\n 0.7165178656578064,\n 0.7522321343421936,\n 0.7388392686843872,\n 0.7834821343421936,\n 0.7767857313156128,\n 0.7901785969734192,\n 0.7834821343421936,\n 0.765625,\n 0.7410714030265808,\n 0.7700892686843872,\n 0.765625,\n 0.734375,\n 0.7209821343421936,\n 0.7879464030265808,\n 0.8102678656578064,\n 0.765625,\n 0.796875,\n 0.7790178656578064,\n 0.7745535969734192,\n 0.7879464030265808,\n 0.7455357313156128,\n 0.7053571343421936,\n 0.7165178656578064,\n 0.734375,\n 0.7366071343421936,\n 0.75,\n 0.7924107313156128,\n 0.7991071343421936,\n 0.7098214030265808,\n 0.7879464030265808,\n 0.7834821343421936,\n 0.75,\n 0.7678571343421936,\n 0.7165178656578064,\n 0.7611607313156128,\n 0.734375,\n 0.7522321343421936,\n 0.75,\n 0.7611607313156128,\n 0.7254464030265808,\n 0.7566964030265808,\n 0.6852678656578064,\n 0.7388392686843872,\n 0.7544642686843872,\n 0.7276785969734192,\n 0.7142857313156128,\n 0.7879464030265808,\n 0.7723214030265808,\n 0.75,\n 0.7678571343421936,\n 0.6808035969734192,\n 0.75,\n 0.6852678656578064,\n 0.6964285969734192,\n 0.7410714030265808,\n 0.7410714030265808,\n 0.75,\n 0.7522321343421936,\n 0.7834821343421936,\n 0.7633928656578064,\n 0.7433035969734192,\n 0.7433035969734192,\n 0.8102678656578064,\n 0.7901785969734192,\n 0.7321428656578064,\n 0.7544642686843872,\n 0.7209821343421936,\n 0.7589285969734192,\n 0.7566964030265808,\n 0.7477678656578064,\n 0.7566964030265808,\n 0.7589285969734192,\n 0.7321428656578064,\n 0.7633928656578064,\n 0.7120535969734192,\n 0.7455357313156128,\n 0.7388392686843872,\n 0.71875,\n 0.7924107313156128,\n 0.7790178656578064,\n 0.7544642686843872,\n 0.7477678656578064,\n 0.7700892686843872,\n 0.7767857313156128,\n 0.7723214030265808,\n 0.7678571343421936,\n 0.7232142686843872,\n 0.7678571343421936,\n 0.7522321343421936,\n 0.6875,\n 0.7522321343421936,\n 0.7723214030265808,\n 0.7165178656578064,\n 0.7991071343421936,\n 0.703125,\n 0.7834821343421936,\n 0.7589285969734192,\n 0.7120535969734192,\n 0.734375,\n 0.703125,\n 0.7410714030265808,\n 0.7745535969734192,\n 0.7790178656578064,\n 0.7611607313156128,\n 0.7611607313156128,\n 0.7477678656578064,\n 0.7477678656578064,\n 0.7254464030265808,\n 0.796875,\n 0.7834821343421936,\n 0.7589285969734192,\n 0.7522321343421936,\n 0.7165178656578064,\n 0.75,\n 0.7366071343421936,\n 0.7566964030265808,\n 0.7142857313156128,\n 0.7611607313156128,\n 0.7276785969734192,\n 0.78125,\n 0.7321428656578064,\n 0.7522321343421936,\n 0.7700892686843872,\n 0.7455357313156128,\n 0.7767857313156128,\n 0.7901785969734192,\n 0.7410714030265808,\n 0.7589285969734192,\n 0.71875,\n 0.7589285969734192,\n 0.7299107313156128,\n 0.7544642686843872,\n 0.7232142686843872,\n 0.6785714030265808,\n 0.7544642686843872,\n 0.7366071343421936,\n 0.7678571343421936,\n 0.7299107313156128,\n 0.7388392686843872,\n 0.7321428656578064,\n 0.8102678656578064,\n 0.6808035969734192,\n 0.7879464030265808,\n 0.7566964030265808,\n 0.765625,\n 0.7723214030265808,\n 0.7901785969734192,\n 0.7333333492279053]"
     },
     "execution_count": 24,
     "metadata": {},
     "output_type": "execute_result"
    }
   ],
   "source": [
    "total_accuracy"
   ],
   "metadata": {
    "collapsed": false
   }
  },
  {
   "cell_type": "code",
   "execution_count": 189,
   "outputs": [],
   "source": [
    "for item in train_loader:\n",
    "    X = item[0][0:32]\n",
    "    Y = item[1][0:32]\n",
    "    break"
   ],
   "metadata": {
    "collapsed": false
   }
  },
  {
   "cell_type": "code",
   "execution_count": 190,
   "outputs": [
    {
     "data": {
      "text/plain": "tensor([[0., 0., 0., 0., 0., 0., 0., 0., 0., 0., 0., 0., 0., 1.],\n        [1., 1., 1., 0., 0., 1., 1., 1., 1., 1., 1., 1., 1., 0.],\n        [0., 0., 0., 0., 0., 0., 0., 0., 0., 0., 0., 0., 1., 0.],\n        [0., 0., 0., 0., 0., 0., 0., 0., 0., 0., 1., 1., 0., 1.],\n        [0., 0., 0., 0., 0., 0., 0., 0., 0., 0., 0., 0., 0., 0.],\n        [0., 0., 0., 0., 0., 0., 0., 0., 0., 0., 0., 0., 0., 1.],\n        [0., 0., 0., 0., 0., 0., 0., 0., 0., 0., 0., 0., 0., 1.],\n        [0., 0., 0., 0., 0., 0., 0., 0., 0., 0., 0., 0., 0., 1.],\n        [1., 1., 1., 0., 1., 0., 0., 0., 0., 0., 0., 0., 1., 0.],\n        [1., 1., 0., 0., 0., 0., 0., 0., 0., 0., 0., 0., 0., 0.],\n        [0., 0., 0., 0., 0., 0., 0., 0., 0., 0., 0., 0., 1., 0.],\n        [0., 0., 0., 0., 0., 0., 0., 0., 0., 0., 1., 1., 0., 1.],\n        [1., 1., 1., 0., 1., 0., 0., 1., 0., 1., 0., 0., 1., 0.],\n        [1., 1., 1., 0., 1., 0., 0., 1., 0., 1., 0., 0., 1., 0.],\n        [0., 0., 0., 0., 0., 0., 0., 0., 0., 0., 0., 0., 0., 1.],\n        [0., 0., 0., 0., 0., 0., 0., 0., 0., 0., 0., 0., 0., 0.],\n        [0., 0., 0., 0., 0., 0., 0., 0., 0., 0., 1., 1., 0., 1.],\n        [1., 1., 1., 0., 1., 0., 0., 1., 0., 1., 0., 0., 1., 0.],\n        [0., 0., 0., 0., 0., 0., 0., 0., 0., 0., 0., 0., 0., 1.],\n        [0., 0., 0., 0., 0., 0., 0., 0., 0., 0., 0., 0., 1., 0.],\n        [0., 0., 0., 0., 0., 0., 0., 0., 0., 0., 0., 0., 0., 1.],\n        [1., 1., 0., 0., 0., 0., 0., 0., 0., 0., 0., 0., 1., 0.],\n        [0., 0., 0., 0., 0., 0., 0., 0., 0., 0., 0., 0., 0., 1.],\n        [1., 1., 1., 0., 1., 0., 0., 1., 0., 1., 0., 1., 0., 0.],\n        [1., 1., 1., 0., 0., 0., 0., 1., 0., 1., 1., 1., 0., 0.],\n        [0., 0., 1., 0., 0., 0., 0., 1., 0., 0., 0., 0., 1., 0.],\n        [1., 0., 1., 0., 0., 0., 0., 1., 0., 0., 0., 0., 0., 0.],\n        [1., 1., 1., 0., 1., 1., 0., 1., 0., 1., 0., 1., 0., 0.],\n        [1., 1., 1., 0., 0., 0., 0., 1., 0., 1., 1., 1., 0., 0.],\n        [1., 1., 1., 0., 1., 1., 0., 1., 0., 1., 0., 0., 1., 0.],\n        [1., 1., 1., 0., 1., 1., 0., 1., 0., 1., 0., 1., 1., 0.],\n        [0., 0., 0., 0., 0., 0., 0., 0., 0., 0., 0., 0., 1., 0.]])"
     },
     "execution_count": 190,
     "metadata": {},
     "output_type": "execute_result"
    }
   ],
   "source": [
    "Y"
   ],
   "metadata": {
    "collapsed": false
   }
  },
  {
   "cell_type": "code",
   "execution_count": 208,
   "outputs": [],
   "source": [
    "N = 15\n",
    "n = 32\n",
    "lambdas = torch.linspace(0,1,N) # N can be taken to infinity without penalty\n",
    "losses = torch.zeros((n,N)) # loss for example i with parameter lambdas[j]"
   ],
   "metadata": {
    "collapsed": false
   }
  },
  {
   "cell_type": "code",
   "execution_count": 209,
   "outputs": [],
   "source": [
    "alpha, delta = 0.4 , 0.2\n",
    "for i in range(n): # In reality we parallelize these loops massively\n",
    "    sigmoids = model(X[i].unsqueeze(0)).sigmoid().squeeze() # Care with dims\n",
    "    for j in range(N):\n",
    "        T = sigmoids > lambdas[j] # This is the prediction set\n",
    "        set_size = T.float().sum()\n",
    "        if set_size != 0:\n",
    "            true_label = Y[i].nonzero(as_tuple=True)[0]\n",
    "            losses[i,j] = 1 - (T[true_label] == True).float().sum()/set_size\n",
    "\n"
   ],
   "metadata": {
    "collapsed": false
   }
  },
  {
   "cell_type": "code",
   "execution_count": 210,
   "outputs": [],
   "source": [
    "risk = losses.mean(dim=0)\n",
    "pvals = torch.exp(-2*n*(torch.relu(alpha-risk)**2)) # Or the HB p-value\n",
    "# Fixed-sequence test starting at lambdas[-1] and ending at lambdas[0]\n",
    "below_delta = (pvals <= delta).float()\n",
    "valid = torch.tensor([(below_delta[j:].mean() == 1) for j in range(N)])\n",
    "lambda_hat = lambdas[valid]"
   ],
   "metadata": {
    "collapsed": false
   }
  },
  {
   "cell_type": "code",
   "execution_count": 211,
   "outputs": [
    {
     "data": {
      "text/plain": "tensor([0.4286, 0.5000, 0.5714, 0.6429, 0.7143, 0.7857, 0.8571, 0.9286, 1.0000])"
     },
     "execution_count": 211,
     "metadata": {},
     "output_type": "execute_result"
    }
   ],
   "source": [
    "lambda_hat"
   ],
   "metadata": {
    "collapsed": false
   }
  },
  {
   "cell_type": "code",
   "execution_count": null,
   "outputs": [],
   "source": [],
   "metadata": {
    "collapsed": false
   }
  }
 ],
 "metadata": {
  "kernelspec": {
   "display_name": "Python 3",
   "language": "python",
   "name": "python3"
  },
  "language_info": {
   "codemirror_mode": {
    "name": "ipython",
    "version": 2
   },
   "file_extension": ".py",
   "mimetype": "text/x-python",
   "name": "python",
   "nbconvert_exporter": "python",
   "pygments_lexer": "ipython2",
   "version": "2.7.6"
  }
 },
 "nbformat": 4,
 "nbformat_minor": 0
}
