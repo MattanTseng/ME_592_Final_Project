{
 "cells": [
  {
   "cell_type": "code",
   "execution_count": 1,
   "outputs": [],
   "source": [
    "from torchvision.transforms import Compose, Resize, ToTensor, Normalize\n",
    "from utils.dataset import ChestImage64\n",
    "import matplotlib.pyplot as plt\n",
    "import numpy as np\n",
    "from torch.utils.data import random_split, DataLoader"
   ],
   "metadata": {
    "collapsed": false
   }
  },
  {
   "cell_type": "code",
   "execution_count": 2,
   "outputs": [],
   "source": [
    "csv_path = './Data/64px Images/train_labels_64p.csv'\n",
    "root_path = './Data/64px Images'"
   ],
   "metadata": {
    "collapsed": false
   }
  },
  {
   "cell_type": "code",
   "execution_count": 3,
   "outputs": [],
   "source": [
    "transform = Compose([\n",
    "    Resize((64, 64)),\n",
    "    ToTensor(),\n",
    "    Normalize(mean=[0.485, 0.456, 0.406], std=[0.229, 0.224, 0.225]),\n",
    "])"
   ],
   "metadata": {
    "collapsed": false
   }
  },
  {
   "cell_type": "code",
   "execution_count": 4,
   "outputs": [],
   "source": [
    "dataset = ChestImage64(csv_path=csv_path, root_path=root_path, class_name=\"Lateral\", transform=transform)"
   ],
   "metadata": {
    "collapsed": false
   }
  },
  {
   "cell_type": "code",
   "execution_count": 5,
   "outputs": [],
   "source": [
    "train_size = round(0.7 * len(dataset))\n",
    "val_size = round(0.1 * len(dataset))\n",
    "test_size = round(0.2 * len(dataset))\n",
    "\n",
    "train_dataset, val_dataset, test_dataset = random_split(dataset, [train_size, val_size, test_size])\n",
    "\n",
    "train_loader = DataLoader(train_dataset, batch_size=32, shuffle=True)\n",
    "val_loader = DataLoader(val_dataset, batch_size=32, shuffle=False)\n",
    "test_loader = DataLoader(test_dataset,batch_size=32, shuffle=True)"
   ],
   "metadata": {
    "collapsed": false
   }
  },
  {
   "cell_type": "code",
   "execution_count": 7,
   "outputs": [
    {
     "name": "stderr",
     "output_type": "stream",
     "text": [
      "Clipping input data to the valid range for imshow with RGB data ([0..1] for floats or [0..255] for integers).\n"
     ]
    },
    {
     "data": {
      "text/plain": "<Figure size 640x480 with 1 Axes>",
      "image/png": "[encoded data removed]"
     },
     "metadata": {},
     "output_type": "display_data"
    },
    {
     "name": "stdout",
     "output_type": "stream",
     "text": [
      "tensor([1., 1., 1., 0., 0., 1., 0., 1., 0., 1., 0., 1., 1., 0.])\n"
     ]
    }
   ],
   "source": [
    "for item in train_loader:\n",
    "    image = item[0][0].numpy()/2 + 0.5\n",
    "    plt.imshow(np.transpose(image,(1,2,0)))\n",
    "    plt.show()\n",
    "    print(item[1][0])\n",
    "    break"
   ],
   "metadata": {
    "collapsed": false
   }
  },
  {
   "cell_type": "code",
   "execution_count": 24,
   "outputs": [
    {
     "name": "stdout",
     "output_type": "stream",
     "text": [
      "Epoch: 1\n",
      "[    0/21445 (  0%)]  Loss: 0.6791\n",
      "[ 3200/21445 ( 15%)]  Loss: 0.5374\n",
      "[ 6400/21445 ( 30%)]  Loss: 0.4533\n",
      "[ 9600/21445 ( 45%)]  Loss: 0.5325\n",
      "[12800/21445 ( 60%)]  Loss: 0.4057\n",
      "[16000/21445 ( 75%)]  Loss: 0.5528\n",
      "[19200/21445 ( 89%)]  Loss: 0.4648\n",
      "Epoch: 2\n",
      "[    0/21445 (  0%)]  Loss: 0.5043\n",
      "[ 3200/21445 ( 15%)]  Loss: 0.4405\n",
      "[ 6400/21445 ( 30%)]  Loss: 0.4352\n",
      "[ 9600/21445 ( 45%)]  Loss: 0.4857\n",
      "[12800/21445 ( 60%)]  Loss: 0.5329\n",
      "[16000/21445 ( 75%)]  Loss: 0.5390\n",
      "[19200/21445 ( 89%)]  Loss: 0.5917\n"
     ]
    }
   ],
   "source": [
    "## define the data\n",
    "from model.ViT import ViT\n",
    "import torch\n",
    "from torchvision.transforms import Compose, Resize, ToTensor, Normalize\n",
    "from utils.dataset import ChestImage64\n",
    "import matplotlib.pyplot as plt\n",
    "import numpy as np\n",
    "from torch.utils.data import random_split, DataLoader\n",
    "from torch import optim\n",
    "import torch.nn.functional as F\n",
    "import time\n",
    "\n",
    "model = ViT(image_size=64, patch_size=8, num_classes=14, channels=3, dim=128, depth=2, heads=8, mlp_dim=128)\n",
    "optimizer = optim.Adam(model.parameters(), lr=3e-4)\n",
    "# %%\n",
    "sum(p.numel() for p in model.parameters())\n",
    "\n",
    "criterion = torch.nn.BCEWithLogitsLoss()\n",
    "\n",
    "# %%\n",
    "def train_epoch(model, optimizer, data_loader, loss_history, device):\n",
    "    total_samples = len(data_loader.dataset)\n",
    "    model.train()\n",
    "\n",
    "    for i, (data, target) in enumerate(data_loader):\n",
    "        data = data.to(device)\n",
    "        target = target.to(device)\n",
    "        optimizer.zero_grad()\n",
    "\n",
    "        output = model(data)\n",
    "        loss = criterion(output,target)\n",
    "\n",
    "        loss.backward()\n",
    "        optimizer.step()\n",
    "\n",
    "        if i % 100 == 0:\n",
    "            print('[' + '{:5}'.format(i * len(data)) + '/' + '{:5}'.format(total_samples) +\n",
    "                  ' (' + '{:3.0f}'.format(100 * i / len(data_loader)) + '%)]  Loss: ' +\n",
    "                  '{:6.4f}'.format(loss.item()))\n",
    "            loss_history.append(loss.item())\n",
    "\n",
    "\n",
    "# %%\n",
    "use_cuda = torch.cuda.is_available()\n",
    "device = torch.device('cuda' if use_cuda else 'cpu')\n",
    "\n",
    "N_EPOCHS = 2\n",
    "\n",
    "start_time = time.time()\n",
    "\n",
    "model.to(device)\n",
    "\n",
    "train_loss_history, test_loss_history = [], []\n",
    "for epoch in range(1, N_EPOCHS + 1):\n",
    "    print('Epoch:', epoch)\n",
    "    train_epoch(model, optimizer, train_loader, train_loss_history, device)\n",
    "    # evaluate(model, test_loader, test_loss_history, device)"
   ],
   "metadata": {
    "collapsed": false
   }
  },
  {
   "cell_type": "code",
   "execution_count": 25,
   "outputs": [],
   "source": [
    "def multi_class_multi_label_accuracy(y_pred, y_true, threshold=0.5):\n",
    "    # Apply sigmoid function to raw outputs\n",
    "    y_pred = torch.sigmoid(y_pred)\n",
    "\n",
    "    # Threshold the predictions\n",
    "    y_pred = (y_pred > threshold).float()\n",
    "    # Compute accuracy\n",
    "    correct = (y_pred == y_true).float()\n",
    "    accuracy = correct.sum() / (y_true.numel())\n",
    "\n",
    "    return accuracy\n"
   ],
   "metadata": {
    "collapsed": false
   }
  },
  {
   "cell_type": "code",
   "execution_count": 26,
   "outputs": [
    {
     "name": "stdout",
     "output_type": "stream",
     "text": [
      "Accuracy: 0.77\n"
     ]
    }
   ],
   "source": [
    "# Import torch and the accuracy function\n",
    "import torch\n",
    "total_accuracy  = []\n",
    "for input, target in test_loader:\n",
    "    # Compute multi-class multi-label accuracy\n",
    "    y_pred = model(input)\n",
    "    accuracy = multi_class_multi_label_accuracy(y_pred, target, threshold=0.5)\n",
    "    total_accuracy.append(accuracy.item())\n",
    "\n",
    "print(\"Accuracy: {:.2f}\".format((np.mean(total_accuracy))))\n"
   ],
   "metadata": {
    "collapsed": false
   }
  }
 ],
 "metadata": {
  "kernelspec": {
   "display_name": "Python 3",
   "language": "python",
   "name": "python3"
  },
  "language_info": {
   "codemirror_mode": {
    "name": "ipython",
    "version": 2
   },
   "file_extension": ".py",
   "mimetype": "text/x-python",
   "name": "python",
   "nbconvert_exporter": "python",
   "pygments_lexer": "ipython2",
   "version": "2.7.6"
  }
 },
 "nbformat": 4,
 "nbformat_minor": 0
}
