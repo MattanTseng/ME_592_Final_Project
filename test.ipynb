{
 "cells": [
  {
   "cell_type": "code",
   "execution_count": 1,
   "outputs": [],
   "source": [
    "from torchvision.transforms import Compose, Resize, ToTensor, Normalize\n",
    "from utils.dataset import ChestImage64\n",
    "import matplotlib.pyplot as plt\n",
    "import numpy as np\n",
    "from torch.utils.data import random_split, DataLoader"
   ],
   "metadata": {
    "collapsed": false
   }
  },
  {
   "cell_type": "code",
   "execution_count": 2,
   "outputs": [],
   "source": [
    "csv_path = './Data/64px Images/train_labels_64p.csv'\n",
    "root_path = './Data/64px Images'"
   ],
   "metadata": {
    "collapsed": false
   }
  },
  {
   "cell_type": "code",
   "execution_count": 3,
   "outputs": [],
   "source": [
    "transform = Compose([\n",
    "    Resize((64, 64)),\n",
    "    ToTensor(),\n",
    "    Normalize(mean=[0.485, 0.456, 0.406], std=[0.229, 0.224, 0.225]),\n",
    "])"
   ],
   "metadata": {
    "collapsed": false
   }
  },
  {
   "cell_type": "code",
   "execution_count": 4,
   "outputs": [],
   "source": [
    "dataset = ChestImage64(csv_path=csv_path, root_path=root_path, class_name=\"Lateral\", transform=transform)"
   ],
   "metadata": {
    "collapsed": false
   }
  },
  {
   "cell_type": "code",
   "execution_count": 5,
   "outputs": [],
   "source": [
    "train_size = round(0.7 * len(dataset))\n",
    "val_size = round(0.1 * len(dataset))\n",
    "test_size = round(0.2 * len(dataset))\n",
    "\n",
    "train_dataset, val_dataset, test_dataset = random_split(dataset, [train_size, val_size, test_size])\n",
    "\n",
    "train_loader = DataLoader(train_dataset, batch_size=32, shuffle=True)\n",
    "val_loader = DataLoader(val_dataset, batch_size=32, shuffle=False)\n",
    "test_loader = DataLoader(test_dataset,batch_size=32, shuffle=True)"
   ],
   "metadata": {
    "collapsed": false
   }
  },
  {
   "cell_type": "code",
   "execution_count": 6,
   "outputs": [
    {
     "name": "stderr",
     "output_type": "stream",
     "text": [
      "Clipping input data to the valid range for imshow with RGB data ([0..1] for floats or [0..255] for integers).\n"
     ]
    },
    {
     "data": {
      "text/plain": "<Figure size 640x480 with 1 Axes>",
      "image/png": "[encoded data removed]"
     },
     "metadata": {},
     "output_type": "display_data"
    },
    {
     "name": "stdout",
     "output_type": "stream",
     "text": [
      "0\n"
     ]
    }
   ],
   "source": [
    "for item in train_loader:\n",
    "    image = item[0][0].numpy()/2 + 0.5\n",
    "    plt.imshow(np.transpose(image,(1,2,0)))\n",
    "    plt.show()\n",
    "    print(item[1][0].item())\n",
    "    break"
   ],
   "metadata": {
    "collapsed": false
   }
  },
  {
   "cell_type": "code",
   "execution_count": 7,
   "outputs": [
    {
     "name": "stdout",
     "output_type": "stream",
     "text": [
      "Epoch: 1\n",
      "[    0/21445 (  0%)]  Loss: 0.8422\n",
      "[ 3200/21445 ( 15%)]  Loss: 0.4198\n",
      "[ 6400/21445 ( 30%)]  Loss: 0.5736\n",
      "[ 9600/21445 ( 45%)]  Loss: 0.4301\n",
      "[12800/21445 ( 60%)]  Loss: 0.5326\n",
      "[16000/21445 ( 75%)]  Loss: 0.5379\n",
      "[19200/21445 ( 89%)]  Loss: 0.6364\n",
      "Epoch: 2\n",
      "[    0/21445 (  0%)]  Loss: 0.4961\n",
      "[ 3200/21445 ( 15%)]  Loss: 0.5437\n",
      "[ 6400/21445 ( 30%)]  Loss: 0.4657\n",
      "[ 9600/21445 ( 45%)]  Loss: 0.5442\n",
      "[12800/21445 ( 60%)]  Loss: 0.6676\n",
      "[16000/21445 ( 75%)]  Loss: 0.7118\n",
      "[19200/21445 ( 89%)]  Loss: 0.5535\n"
     ]
    }
   ],
   "source": [
    "## define the data\n",
    "from model.ViT import ViT\n",
    "import torch\n",
    "from torchvision.transforms import Compose, Resize, ToTensor, Normalize\n",
    "from utils.dataset import ChestImage64\n",
    "import matplotlib.pyplot as plt\n",
    "import numpy as np\n",
    "from torch.utils.data import random_split, DataLoader\n",
    "from torch import optim\n",
    "import torch.nn.functional as F\n",
    "import time\n",
    "\n",
    "model = ViT(image_size=64, patch_size=16, num_classes=2, channels=3, dim=128, depth=2, heads=8, mlp_dim=128)\n",
    "optimizer = optim.Adam(model.parameters(), lr=3e-4)\n",
    "# %%\n",
    "sum(p.numel() for p in model.parameters())\n",
    "\n",
    "\n",
    "# %%\n",
    "def train_epoch(model, optimizer, data_loader, loss_history, device):\n",
    "    total_samples = len(data_loader.dataset)\n",
    "    model.train()\n",
    "\n",
    "    for i, (data, target) in enumerate(data_loader):\n",
    "        data = data.to(device)\n",
    "        target = target.to(device)\n",
    "        optimizer.zero_grad()\n",
    "\n",
    "        output = model(data)\n",
    "\n",
    "        loss = F.cross_entropy(output, target)\n",
    "\n",
    "        loss.backward()\n",
    "        optimizer.step()\n",
    "\n",
    "        if i % 100 == 0:\n",
    "            print('[' + '{:5}'.format(i * len(data)) + '/' + '{:5}'.format(total_samples) +\n",
    "                  ' (' + '{:3.0f}'.format(100 * i / len(data_loader)) + '%)]  Loss: ' +\n",
    "                  '{:6.4f}'.format(loss.item()))\n",
    "            loss_history.append(loss.item())\n",
    "\n",
    "\n",
    "# %%\n",
    "use_cuda = torch.cuda.is_available()\n",
    "device = torch.device('cuda' if use_cuda else 'cpu')\n",
    "\n",
    "N_EPOCHS = 2\n",
    "\n",
    "start_time = time.time()\n",
    "\n",
    "model.to(device)\n",
    "\n",
    "train_loss_history, test_loss_history = [], []\n",
    "for epoch in range(1, N_EPOCHS + 1):\n",
    "    print('Epoch:', epoch)\n",
    "    train_epoch(model, optimizer, train_loader, train_loss_history, device)\n",
    "    # evaluate(model, test_loader, test_loss_history, device)"
   ],
   "metadata": {
    "collapsed": false
   }
  },
  {
   "cell_type": "code",
   "execution_count": 13,
   "outputs": [
    {
     "name": "stdout",
     "output_type": "stream",
     "text": [
      "Accuracy: 77.93%\n"
     ]
    }
   ],
   "source": [
    "num_correct = 0\n",
    "total_samples = 0\n",
    "with torch.no_grad():\n",
    "    for data, labels in test_loader:\n",
    "        # Get the model's output logits\n",
    "        logits = model(data)\n",
    "\n",
    "        # Convert the logits to class predictions\n",
    "        _, predictions = torch.max(logits, dim=1)\n",
    "\n",
    "        # Calculate the number of correct predictions\n",
    "        num_correct += torch.sum(predictions == labels).item()\n",
    "        total_samples += labels.size(0)\n",
    "\n",
    "# Calculate the accuracy\n",
    "accuracy = num_correct / total_samples\n",
    "\n",
    "print(f'Accuracy: {accuracy * 100:.2f}%')"
   ],
   "metadata": {
    "collapsed": false
   }
  },
  {
   "cell_type": "code",
   "execution_count": 35,
   "outputs": [
    {
     "name": "stdout",
     "output_type": "stream",
     "text": [
      "1.0\n"
     ]
    }
   ],
   "source": [
    "import torch\n",
    "from sklearn.metrics import roc_auc_score\n",
    "\n",
    "# assuming y_pred is a tensor of predicted scores and y_true is a tensor of true labels\n",
    "y_pred = torch.tensor([0.4, 1.0, 1.0, 0.4])\n",
    "y_true = torch.tensor([0., 1., 1., 0.])\n",
    "\n",
    "# convert tensors to numpy arrays\n",
    "y_pred_np = y_pred.detach().cpu().numpy()\n",
    "y_true_np = y_true.detach().cpu().numpy()\n",
    "\n",
    "# calculate AUC\n",
    "auc = roc_auc_score(y_true_np, y_pred_np)\n",
    "\n",
    "print(auc)\n"
   ],
   "metadata": {
    "collapsed": false
   }
  },
  {
   "cell_type": "code",
   "execution_count": 36,
   "outputs": [
    {
     "data": {
      "text/plain": "tensor(0.5032)"
     },
     "execution_count": 36,
     "metadata": {},
     "output_type": "execute_result"
    }
   ],
   "source": [
    "criterion = torch.nn.BCEWithLogitsLoss()\n",
    "criterion(y_true,y_pred)"
   ],
   "metadata": {
    "collapsed": false
   }
  },
  {
   "cell_type": "code",
   "execution_count": null,
   "outputs": [],
   "source": [],
   "metadata": {
    "collapsed": false
   }
  }
 ],
 "metadata": {
  "kernelspec": {
   "display_name": "Python 3",
   "language": "python",
   "name": "python3"
  },
  "language_info": {
   "codemirror_mode": {
    "name": "ipython",
    "version": 2
   },
   "file_extension": ".py",
   "mimetype": "text/x-python",
   "name": "python",
   "nbconvert_exporter": "python",
   "pygments_lexer": "ipython2",
   "version": "2.7.6"
  }
 },
 "nbformat": 4,
 "nbformat_minor": 0
}
